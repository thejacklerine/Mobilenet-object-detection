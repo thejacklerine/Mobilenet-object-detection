{
 "cells": [
  {
   "cell_type": "code",
   "execution_count": 1,
   "id": "5c273574",
   "metadata": {},
   "outputs": [],
   "source": [
    "import cv2\n",
    "from matplotlib import pyplot as plt\n",
    "import numpy as np\n",
    "import pandas as pd\n",
    "import random \n",
    "from skimage import io\n",
    "from shutil import copyfile\n",
    "import sys\n",
    "import time\n",
    "import tensorflow as tf\n",
    "from keras.preprocessing.image import load_img,img_to_array"
   ]
  },
  {
   "cell_type": "code",
   "execution_count": null,
   "id": "b23cbfbf",
   "metadata": {},
   "outputs": [],
   "source": [
    "images_boxable_file = 'oidv6-train-annotations-bbox.csv'\n",
    "annotation_bbox_file = 'train-images-boxable-with-rotation.csv'\n",
    "class_description_file = 'class-descriptions-boxable.csv'\n",
    "\n",
    "img_boxable=pd.read_csv(images_boxable_file)\n",
    "annotation_bbox=pd.read_csv(annotation_bbox_file)\n",
    "class_description=pd.read_csv(class_description_file,header=None)\n",
    "\n"
   ]
  },
  {
   "cell_type": "code",
   "execution_count": 3,
   "id": "a3c09755",
   "metadata": {},
   "outputs": [
    {
     "ename": "SyntaxError",
     "evalue": "invalid syntax (<ipython-input-3-003b3acba01c>, line 5)",
     "output_type": "error",
     "traceback": [
      "\u001b[1;36m  File \u001b[1;32m\"<ipython-input-3-003b3acba01c>\"\u001b[1;36m, line \u001b[1;32m5\u001b[0m\n\u001b[1;33m    print(f \"Image: {img.shape}\")\u001b[0m\n\u001b[1;37m            ^\u001b[0m\n\u001b[1;31mSyntaxError\u001b[0m\u001b[1;31m:\u001b[0m invalid syntax\n"
     ]
    }
   ],
   "source": [
    "def plot_box(img_id) :\n",
    "    img_url= images.boxable.loc[image_boxale[\"Image_ID\"]==img_id][originalURL].values[0]\n",
    "    img=io.imread(img_url)\n",
    "    height,width,channel=img.shape\n",
    "    print(f \"Image: {img.shape}\")\n",
    "    bboxs=annotations_bbox[annotation_bbox['ImageID']==img_id]\n",
    "    for index,row in bboxs.itrrows():\n",
    "        xmin= row['X Min']\n",
    "        xmax=row[\"X Max\"]\n",
    "        ymin=row[\"Y Min\"]\n",
    "        ymax=row[\"Y Max\"]\n",
    "        xmin=int(xmin*width)\n",
    "        xmax=int(xmax*width)\n",
    "        ymin=int(ymin*width)\n",
    "        ymax=int(ymax*width)\n",
    "        label_name=row['LabelName']\n",
    "        class_series=class_description[class_discriptions[0]==label_name]\n",
    "        class_name=class_series[1].values()\n",
    "        print(f \"coordinates:{xmin,ymin},{xmax,ymax}\")\n",
    "         cv2.rectangle(img,(xmin,ymi),(xmax,ymax),(255,0,0),5)\n",
    "         font=cv2.FONT_HERSHEY_SIMPLEX\n",
    "        cv2.putText(img,class_name,(xmin,ymin-10),font,3,(0,255,0),5)\n",
    "    plt.figure(figsize=(15,10))\n",
    "    plt.title('Image with ounding Box')\n",
    "    plt.imshow(img)\n",
    "    plt.axis(\"off\")\n",
    "    plt.show()   "
   ]
  },
  {
   "cell_type": "code",
   "execution_count": 7,
   "id": "df53d773",
   "metadata": {},
   "outputs": [
    {
     "name": "stdout",
     "output_type": "stream",
     "text": [
      "              0                           1\n",
      "1   /m/011q46kg                   Container\n",
      "2     /m/012074                      Magpie\n",
      "3     /m/0120dh                  Sea turtle\n",
      "4     /m/01226z                    Football\n",
      "5     /m/012n7d                   Ambulance\n",
      "6     /m/012w5l                      Ladder\n",
      "7     /m/012xff                  Toothbrush\n",
      "8     /m/012ysf                     Syringe\n",
      "9     /m/0130jx                        Sink\n",
      "10    /m/0138tl                         Toy\n",
      "11    /m/013y1f  Organ (Musical Instrument)\n",
      "12    /m/01432t               Cassette deck\n",
      "13    /m/014j1m                       Apple\n",
      "14    /m/014sv8                   Human eye\n",
      "15    /m/014trl                   Cosmetics\n",
      "16    /m/014y4n                      Paddle\n",
      "17    /m/0152hh                     Snowman\n",
      "18     /m/01599                        Beer\n",
      "19     /m/01_5g                  Chopsticks\n",
      "20    /m/015h_t                 Human beard\n",
      "21     /m/015p6                        Bird\n",
      "22    /m/015qbp               Parking meter\n",
      "23    /m/015qff               Traffic light\n",
      "24    /m/015wgc                   Croissant\n",
      "25    /m/015x4r                    Cucumber\n",
      "26    /m/015x5n                      Radish\n",
      "27    /m/0162_1                       Towel\n",
      "28    /m/0167gd                        Doll\n",
      "29    /m/016m2d                       Skull\n",
      "30    /m/0174k2             Washing machine\n",
      "31    /m/0174n1                       Glove\n",
      "32    /m/0175cv                        Tick\n",
      "33    /m/0176mf                        Belt\n",
      "34    /m/017ftj                  Sunglasses\n",
      "35     /m/018j2                       Banjo\n",
      "36    /m/018p4k                        Cart\n",
      "37     /m/018xm                        Ball\n",
      "38    /m/01940j                    Backpack\n",
      "39     /m/0199g                     Bicycle\n",
      "40    /m/019dx1              Home appliance\n",
      "41    /m/019h78                   Centipede\n",
      "42     /m/019jd                        Boat\n",
      "43    /m/019w40                   Surfboard\n",
      "44    /m/01b638                        Boot\n",
      "45    /m/01b7fy                  Headphones\n",
      "46    /m/01b9xk                     Hot dog\n",
      "47    /m/01bfm9                      Shorts\n",
      "48    /m/01_bhs                   Fast food\n",
      "49     /m/01bjv                         Bus\n"
     ]
    }
   ],
   "source": [
    "print(class_description[1:50])"
   ]
  },
  {
   "cell_type": "code",
   "execution_count": null,
   "id": "104e9f91",
   "metadata": {},
   "outputs": [],
   "source": []
  }
 ],
 "metadata": {
  "kernelspec": {
   "display_name": "Python 3",
   "language": "python",
   "name": "python3"
  },
  "language_info": {
   "codemirror_mode": {
    "name": "ipython",
    "version": 3
   },
   "file_extension": ".py",
   "mimetype": "text/x-python",
   "name": "python",
   "nbconvert_exporter": "python",
   "pygments_lexer": "ipython3",
   "version": "3.8.8"
  }
 },
 "nbformat": 4,
 "nbformat_minor": 5
}
